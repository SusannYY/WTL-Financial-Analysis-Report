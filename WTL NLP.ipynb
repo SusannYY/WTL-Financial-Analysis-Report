{
 "cells": [
  {
   "cell_type": "code",
   "execution_count": 2,
   "id": "65262dd3-52af-4f6c-ad82-53439ffdc24b",
   "metadata": {},
   "outputs": [],
   "source": [
    "import pandas as pd"
   ]
  },
  {
   "cell_type": "code",
   "execution_count": 3,
   "id": "cd3fbb19-7dc0-4db5-ae49-085998635459",
   "metadata": {},
   "outputs": [],
   "source": [
    "merged_df = pd.read_csv('merged.csv')"
   ]
  },
  {
   "cell_type": "markdown",
   "id": "f67c3529-af81-42e1-80bf-97df0411b71f",
   "metadata": {},
   "source": [
    "**Investigate our match result:**\n",
    "ISS项目很多是match到具体任务上的，尤其是业务部Tina的工作\n",
    "\n",
    "还有很多看似完全一致的项目，因各种原因regex并没有match成功：\n",
    "- GS230045-BJ07\t华樾中心B座-BJ-朝阳区创远路28号院1号楼项目\n",
    "- GS240072-BJ36 西安工商学院工程楼设计项目\n",
    "\n",
    "**Decide to use NLP on both 具体任务 and 项目名称 columns**"
   ]
  },
  {
   "cell_type": "code",
   "execution_count": 4,
   "id": "574808b5-0129-426b-819f-3959be6598d7",
   "metadata": {},
   "outputs": [
    {
     "data": {
      "text/plain": [
       "array(['GS', 'No Match', 'ISS'], dtype=object)"
      ]
     },
     "execution_count": 4,
     "metadata": {},
     "output_type": "execute_result"
    }
   ],
   "source": [
    "merged_df['匹配'].unique()"
   ]
  },
  {
   "cell_type": "code",
   "execution_count": 6,
   "id": "68d94c1d-28df-4e3a-a59f-58e2c8cd9379",
   "metadata": {},
   "outputs": [],
   "source": [
    "import spacy"
   ]
  },
  {
   "cell_type": "code",
   "execution_count": 7,
   "id": "3751ddb3-44f0-40f4-91c0-6c823dcb2fa9",
   "metadata": {},
   "outputs": [],
   "source": [
    "# Load Spacy model (use the medium or large model for better performance)\n",
    "nlp = spacy.load('zh_core_web_sm') \n",
    "\n",
    "# Create function to compare similarity between two texts\n",
    "def get_similarity(text1, text2):\n",
    "    if pd.isna(text1) or pd.isna(text2):  # Skip if either text is NaN\n",
    "        return 0\n",
    "    doc1 = nlp(text1)\n",
    "    doc2 = nlp(text2)\n",
    "    return doc1.similarity(doc2)\n",
    "\n",
    "# Compare similarity for each row in the merged dataset\n",
    "def find_best_match(merged_row, project_names):\n",
    "    best_match = ''\n",
    "    highest_similarity = 0\n",
    "    if not pd.isna(merged_row):\n",
    "        i = 0\n",
    "        for project in project_names:\n",
    "            i += 1\n",
    "            similarity = get_similarity(merged_row, project)\n",
    "            if similarity > highest_similarity:\n",
    "                highest_similarity = similarity\n",
    "                best_match = project\n",
    "            print(merged_row, '<->', project, ', with ', similarity,  ' iterating project number ', i)\n",
    "\n",
    "    return best_match, highest_similarity\n",
    "\n",
    "# First, filter the rows where '匹配' == 'No Match'\n",
    "# This is to increase efficiency\n",
    "no_match_df = merged_df[merged_df['匹配'] == 'No Match']"
   ]
  },
  {
   "cell_type": "code",
   "execution_count": null,
   "id": "96acef78-16b7-4ffe-accb-4d40524f5d11",
   "metadata": {},
   "outputs": [],
   "source": [
    "# Warning: take several minutes\n",
    "tina = no_match_df[no_match_df['部门']=='业务部Tina']\n",
    "merged_df.loc[tina.index, 'Desc_Name_Match_ISS'], merged_df.loc[tina.index, 'Desc_Name_ISS_Similarity'] = zip(*tina['具体任务'].apply(lambda task: find_best_match(task, iss['项目名称'])))"
   ]
  },
  {
   "cell_type": "code",
   "execution_count": null,
   "id": "bc1a1271-f224-40ea-a98a-b56c4a64a1e4",
   "metadata": {},
   "outputs": [],
   "source": [
    "# Warning: take several minutes\n",
    "gs_missing_match = no_match_df[~pd.isna(no_match_df['项目编码']) & no_match_df['项目编码'].isin(gs['项目编码'])]\n",
    "merged_df.loc[gs_missing_match.index, 'Name_Name_Match_GS'], merged_df.loc[gs_missing_match.index, 'Name_Name_GS_Similarity'] = zip(*gs_missing_match['项目名称'].apply(lambda task: find_best_match(task, gs['项目名称'])))"
   ]
  },
  {
   "cell_type": "code",
   "execution_count": null,
   "id": "3a31542e-cb1f-481e-8d62-d154007580f9",
   "metadata": {},
   "outputs": [],
   "source": [
    "# Warning: take several minutes\n",
    "iss_missing_match = no_match_df[~pd.isna(no_match_df['项目编码']) & no_match_df['项目编码'].isin(iss['项目编码'])]\n",
    "merged_df.loc[iss_missing_match.index, 'Name_Name_Match_ISS'], merged_df.loc[iss_missing_match.index, 'Name_Name_ISS_Similarity'] = zip(*iss_missing_match['项目名称'].apply(lambda task: find_best_match(task, iss['项目名称'])))"
   ]
  },
  {
   "cell_type": "code",
   "execution_count": null,
   "id": "143219b6-7574-43a6-8745-4f996f37bc88",
   "metadata": {},
   "outputs": [],
   "source": [
    "merged_df[(merged_df['Name_Name_GS_Similarity'] != 0) & (~pd.isna(merged_df['Name_Name_GS_Similarity']))]['Name_Name_GS_Similarity'].unique()"
   ]
  },
  {
   "cell_type": "code",
   "execution_count": null,
   "id": "366154c6-e159-468c-b67c-194444016d78",
   "metadata": {},
   "outputs": [],
   "source": [
    "investigate = merged_df[(merged_df['Name_Name_GS_Similarity'] != 0) & (~pd.isna(merged_df['Name_Name_GS_Similarity']))]['Name_Name_GS_Similarity'].unique()[6]"
   ]
  },
  {
   "cell_type": "code",
   "execution_count": null,
   "id": "5aa1c615-2787-4375-b249-0776c3b4776c",
   "metadata": {},
   "outputs": [],
   "source": [
    "merged_df[merged_df['Name_Name_GS_Similarity'] == investigate]"
   ]
  },
  {
   "cell_type": "markdown",
   "id": "b3914b71-e4d4-4544-b0f5-f0e25b091405",
   "metadata": {},
   "source": [
    "**for project name matching: 0.85 is a threshold**"
   ]
  },
  {
   "cell_type": "markdown",
   "id": "8bfe7df0-566f-4133-8f0a-0824206af80b",
   "metadata": {},
   "source": [
    "**Based on above matching result: match the ones above threshold, and output the full data for further manual investigation.**"
   ]
  },
  {
   "cell_type": "code",
   "execution_count": null,
   "id": "9d566b74-94b7-4b65-bbf4-c9f851373544",
   "metadata": {},
   "outputs": [],
   "source": [
    "merged_df.to_csv('merged_with_similarity_results.csv', index=False, encoding='utf-8-sig')"
   ]
  }
 ],
 "metadata": {
  "kernelspec": {
   "display_name": "Python 3 (ipykernel)",
   "language": "python",
   "name": "python3"
  },
  "language_info": {
   "codemirror_mode": {
    "name": "ipython",
    "version": 3
   },
   "file_extension": ".py",
   "mimetype": "text/x-python",
   "name": "python",
   "nbconvert_exporter": "python",
   "pygments_lexer": "ipython3",
   "version": "3.11.10"
  }
 },
 "nbformat": 4,
 "nbformat_minor": 5
}
